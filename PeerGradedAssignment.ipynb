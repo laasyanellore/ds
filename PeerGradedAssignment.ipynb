{
  "metadata": {
    "language_info": {
      "codemirror_mode": {
        "name": "python",
        "version": 3
      },
      "file_extension": ".py",
      "mimetype": "text/x-python",
      "name": "python",
      "nbconvert_exporter": "python",
      "pygments_lexer": "ipython3",
      "version": "3.8"
    },
    "kernelspec": {
      "name": "python",
      "display_name": "Python (Pyodide)",
      "language": "python"
    }
  },
  "nbformat_minor": 4,
  "nbformat": 4,
  "cells": [
    {
      "cell_type": "code",
      "source": "#Peer Graded Assignment - Tools for Data Science",
      "metadata": {},
      "execution_count": null,
      "outputs": []
    },
    {
      "cell_type": "code",
      "source": "## Introduction\n\nWelcome to my notebook! This notebook consists of my answers to the peer-graded assignment. Looking forward to your grading. Thanks!\n",
      "metadata": {},
      "execution_count": null,
      "outputs": []
    },
    {
      "cell_type": "code",
      "source": "## Data Science Languages\n- Python\n- R\n- SQL\n- Julia\n- Scala\n- MATLAB\n- Java\n- C/C++",
      "metadata": {},
      "execution_count": null,
      "outputs": []
    },
    {
      "cell_type": "code",
      "source": "## Data Science Libraries\n- Pandas\n- NumPy\n- SciPy\n- Matplotlib\n- Seaborn\n- Scikit-learn\n- TensorFlow\n- Keras\n- PyTorch",
      "metadata": {},
      "execution_count": null,
      "outputs": []
    },
    {
      "cell_type": "code",
      "source": "import pandas as pd\np_list = ['Python', 'R', 'Julia', 'Scala', 'SQL']\nd_list = ['Matplotlib', 'Seaborn', 'Plotly', 'ggplot2']\na_list = [\n    ['Programming', p_list],\n    ['Data Visualization', d_list]\n]\n\npd.DataFrame(a_list, columns=[\"Category\", \"Tools\"])",
      "metadata": {
        "trusted": true
      },
      "execution_count": 5,
      "outputs": [
        {
          "execution_count": 5,
          "output_type": "execute_result",
          "data": {
            "text/plain": "             Category                                   Tools\n0         Programming          [Python, R, Julia, Scala, SQL]\n1  Data Visualization  [Matplotlib, Seaborn, Plotly, ggplot2]",
            "text/html": "<div>\n<style scoped>\n    .dataframe tbody tr th:only-of-type {\n        vertical-align: middle;\n    }\n\n    .dataframe tbody tr th {\n        vertical-align: top;\n    }\n\n    .dataframe thead th {\n        text-align: right;\n    }\n</style>\n<table border=\"1\" class=\"dataframe\">\n  <thead>\n    <tr style=\"text-align: right;\">\n      <th></th>\n      <th>Category</th>\n      <th>Tools</th>\n    </tr>\n  </thead>\n  <tbody>\n    <tr>\n      <th>0</th>\n      <td>Programming</td>\n      <td>[Python, R, Julia, Scala, SQL]</td>\n    </tr>\n    <tr>\n      <th>1</th>\n      <td>Data Visualization</td>\n      <td>[Matplotlib, Seaborn, Plotly, ggplot2]</td>\n    </tr>\n  </tbody>\n</table>\n</div>"
          },
          "metadata": {}
        }
      ]
    },
    {
      "cell_type": "code",
      "source": "# Multiplication\nresult_multiply = 2 * 3\nprint(\"Multiplication result:\", result_multiply)\n\n# Addition\nresult_addition = 2 + 3\nprint(\"Addition result:\", result_addition)",
      "metadata": {
        "trusted": true
      },
      "execution_count": 1,
      "outputs": [
        {
          "name": "stdout",
          "text": "Multiplication result: 6\nAddition result: 5\n",
          "output_type": "stream"
        }
      ]
    },
    {
      "cell_type": "code",
      "source": "#Convert minutes to hours\nminutes = 150\nhours = minutes / 60\nremaining_minutes = minutes % 60\n\nprint(f\"{minutes} minutes is equal to {int(hours)} hours and {remaining_minutes} minutes.\")",
      "metadata": {
        "trusted": true
      },
      "execution_count": 2,
      "outputs": [
        {
          "name": "stdout",
          "text": "150 minutes is equal to 2 hours and 30 minutes.\n",
          "output_type": "stream"
        }
      ]
    },
    {
      "cell_type": "code",
      "source": "#Objectives\n- Understand the fundamental concepts of data science.\n- Learn various data preprocessing techniques.\n- Gain proficiency in data visualization using popular libraries.\n- Develop skills in exploratory data analysis.",
      "metadata": {},
      "execution_count": null,
      "outputs": []
    },
    {
      "cell_type": "code",
      "source": "#Author Name\nLaasya Nellore",
      "metadata": {},
      "execution_count": null,
      "outputs": []
    }
  ]
}